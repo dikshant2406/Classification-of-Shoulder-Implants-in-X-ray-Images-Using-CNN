{
  "nbformat": 4,
  "nbformat_minor": 0,
  "metadata": {
    "colab": {
      "name": "Classification of Shoulder Implants in X-ray Images.ipynb",
      "provenance": []
    },
    "kernelspec": {
      "name": "python3",
      "display_name": "Python 3"
    }
  },
  "cells": [
    {
      "cell_type": "code",
      "metadata": {
        "id": "xEG7grKgzdQE"
      },
      "source": [
        "import numpy as np\r\n",
        "from keras.preprocessing.image import ImageDataGenerator\r\n",
        "from keras.models import Sequential\r\n",
        "from keras.layers import Conv2D , MaxPooling2D\r\n",
        "from keras.layers import Activation ,Dropout ,Flatten ,Dense\r\n",
        "from keras import backend as K\r\n",
        "from keras.preprocessing import image"
      ],
      "execution_count": 1,
      "outputs": []
    },
    {
      "cell_type": "code",
      "metadata": {
        "colab": {
          "base_uri": "https://localhost:8080/",
          "height": 0
        },
        "id": "iqjSWBBUkln5",
        "outputId": "433707a0-aa3e-4552-bc92-c3d0573a4a08"
      },
      "source": [
        "from google.colab import drive\n",
        "drive.mount('/content/drive')"
      ],
      "execution_count": 2,
      "outputs": [
        {
          "output_type": "stream",
          "text": [
            "Drive already mounted at /content/drive; to attempt to forcibly remount, call drive.mount(\"/content/drive\", force_remount=True).\n"
          ],
          "name": "stdout"
        }
      ]
    },
    {
      "cell_type": "code",
      "metadata": {
        "id": "8CKBVZrHkbmj"
      },
      "source": [
        "image_width , image_height = 224 , 224\r\n",
        "training_data_dir = '/content/drive/MyDrive/shoulder classification/data_categorical/train data'\r\n",
        "test_data_dir = '/content/drive/MyDrive/shoulder classification/data_categorical/test data'\r\n",
        "no_training_sample = 420\r\n",
        "no_test_sample = 100\r\n",
        "epoch = 50 \r\n",
        "batch_size = 20 \r\n",
        "\r\n"
      ],
      "execution_count": 3,
      "outputs": []
    },
    {
      "cell_type": "code",
      "metadata": {
        "id": "KgsXigUcrCI2"
      },
      "source": [
        "if K.image_data_format() == \"channels_first\" :\r\n",
        "  input_shape = (3 , image_width , image_height)\r\n",
        "else:\r\n",
        "  input_shape = (image_width , image_height , 3) #224*224*3"
      ],
      "execution_count": 4,
      "outputs": []
    },
    {
      "cell_type": "code",
      "metadata": {
        "id": "mKxtKpKurzDL"
      },
      "source": [
        "train_data_gen = ImageDataGenerator(\r\n",
        "    rescale = 1./255 ,\r\n",
        "    shear_range = 0.4 , \r\n",
        "    zoom_range = 0.4 ,\r\n",
        "    horizontal_flip = True ,\r\n",
        ")\r\n",
        "\r\n",
        "test_data_gen = ImageDataGenerator(\r\n",
        "    rescale = 1./255 \r\n",
        ")"
      ],
      "execution_count": 5,
      "outputs": []
    },
    {
      "cell_type": "code",
      "metadata": {
        "colab": {
          "base_uri": "https://localhost:8080/",
          "height": 0
        },
        "id": "bDdfIgCcxOp-",
        "outputId": "659da7f0-573c-45de-e76d-237403bc0720"
      },
      "source": [
        "train_generator = train_data_gen.flow_from_directory(\r\n",
        "    training_data_dir ,\r\n",
        "    batch_size = batch_size ,\r\n",
        "    class_mode='categorical' ,\r\n",
        "    target_size = (image_width , image_height) \r\n",
        ")\r\n",
        "\r\n",
        "test_generator = test_data_gen.flow_from_directory(\r\n",
        "    test_data_dir ,\r\n",
        "    batch_size = batch_size ,\r\n",
        "    class_mode='categorical' ,\r\n",
        "    target_size = (image_width , image_height) \r\n",
        ")"
      ],
      "execution_count": 6,
      "outputs": [
        {
          "output_type": "stream",
          "text": [
            "Found 421 images belonging to 4 classes.\n",
            "Found 118 images belonging to 4 classes.\n"
          ],
          "name": "stdout"
        }
      ]
    },
    {
      "cell_type": "code",
      "metadata": {
        "colab": {
          "base_uri": "https://localhost:8080/",
          "height": 3815
        },
        "id": "nOv8EKNozbKh",
        "outputId": "7776729d-8f49-4c00-8a5a-38ead0d785fa"
      },
      "source": [
        "model = Sequential()\r\n",
        "model.add( Conv2D(32 , (3,3) , input_shape = input_shape ) ) \r\n",
        "model.add( Activation('relu') )\r\n",
        "model.add( MaxPooling2D(  pool_size=(2,2)) )\r\n",
        "\r\n",
        "model.summary()    #summaraising detail after going through first layer\r\n",
        "\r\n",
        "model.add( Conv2D(64 , (3,3) ) ) \r\n",
        "model.add( Activation('relu') )\r\n",
        "model.add( MaxPooling2D(  pool_size=(2,2)) )\r\n",
        "\r\n",
        "model.summary()\r\n",
        "\r\n",
        "model.add( Conv2D(128 , (3,3) ) ) \r\n",
        "model.add( Activation('relu') )\r\n",
        "model.add( MaxPooling2D(  pool_size=(2,2)) )\r\n",
        "\r\n",
        "model.summary()\r\n",
        "\r\n",
        "model.add(Flatten())\r\n",
        "model.add(Dense(256))\r\n",
        "model.add(Activation('relu'))\r\n",
        "model.add(Dense(4)) \r\n",
        "model.add( Activation('softmax')) \r\n",
        "\r\n",
        "model.summary()\r\n",
        "\r\n",
        "model.compile(loss = 'categorical_crossentropy' , \r\n",
        "              optimizer = 'Adam' , \r\n",
        "              metrics = ['accuracy'] )\r\n",
        "\r\n",
        "\r\n",
        "model.fit_generator(\r\n",
        "    train_generator ,\r\n",
        "    steps_per_epoch = no_training_sample // batch_size ,\r\n",
        "    epochs = epoch ,\r\n",
        "    validation_data = test_generator ,\r\n",
        "    validation_steps = no_test_sample // batch_size\r\n",
        ")\r\n",
        "\r\n",
        "\r\n",
        "              \r\n"
      ],
      "execution_count": 18,
      "outputs": [
        {
          "output_type": "stream",
          "text": [
            "Model: \"sequential_7\"\n",
            "_________________________________________________________________\n",
            "Layer (type)                 Output Shape              Param #   \n",
            "=================================================================\n",
            "conv2d_21 (Conv2D)           (None, 222, 222, 32)      896       \n",
            "_________________________________________________________________\n",
            "activation_34 (Activation)   (None, 222, 222, 32)      0         \n",
            "_________________________________________________________________\n",
            "max_pooling2d_21 (MaxPooling (None, 111, 111, 32)      0         \n",
            "=================================================================\n",
            "Total params: 896\n",
            "Trainable params: 896\n",
            "Non-trainable params: 0\n",
            "_________________________________________________________________\n",
            "Model: \"sequential_7\"\n",
            "_________________________________________________________________\n",
            "Layer (type)                 Output Shape              Param #   \n",
            "=================================================================\n",
            "conv2d_21 (Conv2D)           (None, 222, 222, 32)      896       \n",
            "_________________________________________________________________\n",
            "activation_34 (Activation)   (None, 222, 222, 32)      0         \n",
            "_________________________________________________________________\n",
            "max_pooling2d_21 (MaxPooling (None, 111, 111, 32)      0         \n",
            "_________________________________________________________________\n",
            "conv2d_22 (Conv2D)           (None, 109, 109, 64)      18496     \n",
            "_________________________________________________________________\n",
            "activation_35 (Activation)   (None, 109, 109, 64)      0         \n",
            "_________________________________________________________________\n",
            "max_pooling2d_22 (MaxPooling (None, 54, 54, 64)        0         \n",
            "=================================================================\n",
            "Total params: 19,392\n",
            "Trainable params: 19,392\n",
            "Non-trainable params: 0\n",
            "_________________________________________________________________\n",
            "Model: \"sequential_7\"\n",
            "_________________________________________________________________\n",
            "Layer (type)                 Output Shape              Param #   \n",
            "=================================================================\n",
            "conv2d_21 (Conv2D)           (None, 222, 222, 32)      896       \n",
            "_________________________________________________________________\n",
            "activation_34 (Activation)   (None, 222, 222, 32)      0         \n",
            "_________________________________________________________________\n",
            "max_pooling2d_21 (MaxPooling (None, 111, 111, 32)      0         \n",
            "_________________________________________________________________\n",
            "conv2d_22 (Conv2D)           (None, 109, 109, 64)      18496     \n",
            "_________________________________________________________________\n",
            "activation_35 (Activation)   (None, 109, 109, 64)      0         \n",
            "_________________________________________________________________\n",
            "max_pooling2d_22 (MaxPooling (None, 54, 54, 64)        0         \n",
            "_________________________________________________________________\n",
            "conv2d_23 (Conv2D)           (None, 52, 52, 128)       73856     \n",
            "_________________________________________________________________\n",
            "activation_36 (Activation)   (None, 52, 52, 128)       0         \n",
            "_________________________________________________________________\n",
            "max_pooling2d_23 (MaxPooling (None, 26, 26, 128)       0         \n",
            "=================================================================\n",
            "Total params: 93,248\n",
            "Trainable params: 93,248\n",
            "Non-trainable params: 0\n",
            "_________________________________________________________________\n",
            "Model: \"sequential_7\"\n",
            "_________________________________________________________________\n",
            "Layer (type)                 Output Shape              Param #   \n",
            "=================================================================\n",
            "conv2d_21 (Conv2D)           (None, 222, 222, 32)      896       \n",
            "_________________________________________________________________\n",
            "activation_34 (Activation)   (None, 222, 222, 32)      0         \n",
            "_________________________________________________________________\n",
            "max_pooling2d_21 (MaxPooling (None, 111, 111, 32)      0         \n",
            "_________________________________________________________________\n",
            "conv2d_22 (Conv2D)           (None, 109, 109, 64)      18496     \n",
            "_________________________________________________________________\n",
            "activation_35 (Activation)   (None, 109, 109, 64)      0         \n",
            "_________________________________________________________________\n",
            "max_pooling2d_22 (MaxPooling (None, 54, 54, 64)        0         \n",
            "_________________________________________________________________\n",
            "conv2d_23 (Conv2D)           (None, 52, 52, 128)       73856     \n",
            "_________________________________________________________________\n",
            "activation_36 (Activation)   (None, 52, 52, 128)       0         \n",
            "_________________________________________________________________\n",
            "max_pooling2d_23 (MaxPooling (None, 26, 26, 128)       0         \n",
            "_________________________________________________________________\n",
            "flatten_7 (Flatten)          (None, 86528)             0         \n",
            "_________________________________________________________________\n",
            "dense_13 (Dense)             (None, 256)               22151424  \n",
            "_________________________________________________________________\n",
            "activation_37 (Activation)   (None, 256)               0         \n",
            "_________________________________________________________________\n",
            "dense_14 (Dense)             (None, 4)                 1028      \n",
            "_________________________________________________________________\n",
            "activation_38 (Activation)   (None, 4)                 0         \n",
            "=================================================================\n",
            "Total params: 22,245,700\n",
            "Trainable params: 22,245,700\n",
            "Non-trainable params: 0\n",
            "_________________________________________________________________\n"
          ],
          "name": "stdout"
        },
        {
          "output_type": "stream",
          "text": [
            "/usr/local/lib/python3.7/dist-packages/tensorflow/python/keras/engine/training.py:1844: UserWarning: `Model.fit_generator` is deprecated and will be removed in a future version. Please use `Model.fit`, which supports generators.\n",
            "  warnings.warn('`Model.fit_generator` is deprecated and '\n"
          ],
          "name": "stderr"
        },
        {
          "output_type": "stream",
          "text": [
            "Epoch 1/50\n",
            "21/21 [==============================] - 36s 2s/step - loss: 2.3100 - accuracy: 0.4080 - val_loss: 1.2743 - val_accuracy: 0.4700\n",
            "Epoch 2/50\n",
            "21/21 [==============================] - 35s 2s/step - loss: 1.2202 - accuracy: 0.4844 - val_loss: 1.2701 - val_accuracy: 0.4700\n",
            "Epoch 3/50\n",
            "21/21 [==============================] - 35s 2s/step - loss: 1.2537 - accuracy: 0.4739 - val_loss: 1.2519 - val_accuracy: 0.4800\n",
            "Epoch 4/50\n",
            "21/21 [==============================] - 35s 2s/step - loss: 1.2056 - accuracy: 0.5016 - val_loss: 1.2613 - val_accuracy: 0.4800\n",
            "Epoch 5/50\n",
            "21/21 [==============================] - 35s 2s/step - loss: 1.2674 - accuracy: 0.4371 - val_loss: 1.3095 - val_accuracy: 0.4800\n",
            "Epoch 6/50\n",
            "21/21 [==============================] - 35s 2s/step - loss: 1.2551 - accuracy: 0.4793 - val_loss: 1.2603 - val_accuracy: 0.5000\n",
            "Epoch 7/50\n",
            "21/21 [==============================] - 35s 2s/step - loss: 1.2357 - accuracy: 0.4782 - val_loss: 1.2514 - val_accuracy: 0.5000\n",
            "Epoch 8/50\n",
            "21/21 [==============================] - 35s 2s/step - loss: 1.2529 - accuracy: 0.4655 - val_loss: 1.4442 - val_accuracy: 0.4400\n",
            "Epoch 9/50\n",
            "21/21 [==============================] - 35s 2s/step - loss: 1.1903 - accuracy: 0.5348 - val_loss: 1.2235 - val_accuracy: 0.5100\n",
            "Epoch 10/50\n",
            "21/21 [==============================] - 36s 2s/step - loss: 1.2386 - accuracy: 0.4830 - val_loss: 1.2941 - val_accuracy: 0.4700\n",
            "Epoch 11/50\n",
            "21/21 [==============================] - 35s 2s/step - loss: 1.2205 - accuracy: 0.4974 - val_loss: 1.2876 - val_accuracy: 0.4700\n",
            "Epoch 12/50\n",
            "21/21 [==============================] - 35s 2s/step - loss: 1.2606 - accuracy: 0.4658 - val_loss: 1.2677 - val_accuracy: 0.4700\n",
            "Epoch 13/50\n",
            "21/21 [==============================] - 35s 2s/step - loss: 1.2264 - accuracy: 0.4841 - val_loss: 1.3499 - val_accuracy: 0.4700\n",
            "Epoch 14/50\n",
            "21/21 [==============================] - 35s 2s/step - loss: 1.1750 - accuracy: 0.5002 - val_loss: 1.2938 - val_accuracy: 0.4800\n",
            "Epoch 15/50\n",
            "21/21 [==============================] - 35s 2s/step - loss: 1.2408 - accuracy: 0.4735 - val_loss: 1.2583 - val_accuracy: 0.4700\n",
            "Epoch 16/50\n",
            "21/21 [==============================] - 35s 2s/step - loss: 1.1970 - accuracy: 0.5065 - val_loss: 1.2520 - val_accuracy: 0.4700\n",
            "Epoch 17/50\n",
            "21/21 [==============================] - 35s 2s/step - loss: 1.1663 - accuracy: 0.4987 - val_loss: 1.3015 - val_accuracy: 0.4400\n",
            "Epoch 18/50\n",
            "21/21 [==============================] - 35s 2s/step - loss: 1.1930 - accuracy: 0.5077 - val_loss: 1.3033 - val_accuracy: 0.4500\n",
            "Epoch 19/50\n",
            "21/21 [==============================] - 35s 2s/step - loss: 1.2205 - accuracy: 0.4911 - val_loss: 1.2110 - val_accuracy: 0.5000\n",
            "Epoch 20/50\n",
            "21/21 [==============================] - 35s 2s/step - loss: 1.1658 - accuracy: 0.5292 - val_loss: 1.2294 - val_accuracy: 0.4800\n",
            "Epoch 21/50\n",
            "21/21 [==============================] - 35s 2s/step - loss: 1.1731 - accuracy: 0.5022 - val_loss: 1.2995 - val_accuracy: 0.4600\n",
            "Epoch 22/50\n",
            "21/21 [==============================] - 35s 2s/step - loss: 1.2001 - accuracy: 0.4494 - val_loss: 1.2660 - val_accuracy: 0.4700\n",
            "Epoch 23/50\n",
            "21/21 [==============================] - 35s 2s/step - loss: 1.1964 - accuracy: 0.4929 - val_loss: 1.2692 - val_accuracy: 0.4600\n",
            "Epoch 24/50\n",
            "21/21 [==============================] - 35s 2s/step - loss: 1.1873 - accuracy: 0.4847 - val_loss: 1.2944 - val_accuracy: 0.4400\n",
            "Epoch 25/50\n",
            "21/21 [==============================] - 35s 2s/step - loss: 1.1950 - accuracy: 0.4582 - val_loss: 1.2534 - val_accuracy: 0.4300\n",
            "Epoch 26/50\n",
            "21/21 [==============================] - 35s 2s/step - loss: 1.1675 - accuracy: 0.4747 - val_loss: 1.3216 - val_accuracy: 0.4700\n",
            "Epoch 27/50\n",
            "21/21 [==============================] - 35s 2s/step - loss: 1.1274 - accuracy: 0.5083 - val_loss: 1.3353 - val_accuracy: 0.3900\n",
            "Epoch 28/50\n",
            "21/21 [==============================] - 35s 2s/step - loss: 1.1764 - accuracy: 0.4934 - val_loss: 1.2432 - val_accuracy: 0.4900\n",
            "Epoch 29/50\n",
            "21/21 [==============================] - 35s 2s/step - loss: 1.2730 - accuracy: 0.4620 - val_loss: 1.3518 - val_accuracy: 0.4500\n",
            "Epoch 30/50\n",
            "21/21 [==============================] - 35s 2s/step - loss: 1.1348 - accuracy: 0.4906 - val_loss: 1.2974 - val_accuracy: 0.5000\n",
            "Epoch 31/50\n",
            "21/21 [==============================] - 35s 2s/step - loss: 1.1566 - accuracy: 0.4894 - val_loss: 1.2923 - val_accuracy: 0.5000\n",
            "Epoch 32/50\n",
            "21/21 [==============================] - 35s 2s/step - loss: 1.2134 - accuracy: 0.5049 - val_loss: 1.2592 - val_accuracy: 0.4500\n",
            "Epoch 33/50\n",
            "21/21 [==============================] - 36s 2s/step - loss: 1.1374 - accuracy: 0.5615 - val_loss: 1.2402 - val_accuracy: 0.4700\n",
            "Epoch 34/50\n",
            "21/21 [==============================] - 35s 2s/step - loss: 1.1336 - accuracy: 0.5251 - val_loss: 1.3726 - val_accuracy: 0.4600\n",
            "Epoch 35/50\n",
            "21/21 [==============================] - 35s 2s/step - loss: 1.1040 - accuracy: 0.5132 - val_loss: 1.5742 - val_accuracy: 0.4400\n",
            "Epoch 36/50\n",
            "21/21 [==============================] - 35s 2s/step - loss: 1.1817 - accuracy: 0.5312 - val_loss: 1.3471 - val_accuracy: 0.4700\n",
            "Epoch 37/50\n",
            "21/21 [==============================] - 35s 2s/step - loss: 1.0987 - accuracy: 0.5188 - val_loss: 1.3791 - val_accuracy: 0.5200\n",
            "Epoch 38/50\n",
            "21/21 [==============================] - 35s 2s/step - loss: 1.1201 - accuracy: 0.4954 - val_loss: 1.3193 - val_accuracy: 0.4800\n",
            "Epoch 39/50\n",
            "21/21 [==============================] - 35s 2s/step - loss: 1.1135 - accuracy: 0.5085 - val_loss: 1.3540 - val_accuracy: 0.4300\n",
            "Epoch 40/50\n",
            "21/21 [==============================] - 35s 2s/step - loss: 1.0874 - accuracy: 0.5299 - val_loss: 1.4545 - val_accuracy: 0.4200\n",
            "Epoch 41/50\n",
            "21/21 [==============================] - 35s 2s/step - loss: 1.1210 - accuracy: 0.5166 - val_loss: 1.2914 - val_accuracy: 0.4800\n",
            "Epoch 42/50\n",
            "21/21 [==============================] - 35s 2s/step - loss: 1.1078 - accuracy: 0.5526 - val_loss: 1.4216 - val_accuracy: 0.4400\n",
            "Epoch 43/50\n",
            "21/21 [==============================] - 35s 2s/step - loss: 1.0969 - accuracy: 0.5297 - val_loss: 1.5468 - val_accuracy: 0.4400\n",
            "Epoch 44/50\n",
            "21/21 [==============================] - 35s 2s/step - loss: 1.1923 - accuracy: 0.4312 - val_loss: 1.4893 - val_accuracy: 0.4300\n",
            "Epoch 45/50\n",
            "21/21 [==============================] - 35s 2s/step - loss: 1.0907 - accuracy: 0.5193 - val_loss: 1.3805 - val_accuracy: 0.4400\n",
            "Epoch 46/50\n",
            "21/21 [==============================] - 35s 2s/step - loss: 1.1038 - accuracy: 0.5631 - val_loss: 1.3539 - val_accuracy: 0.3800\n",
            "Epoch 47/50\n",
            "21/21 [==============================] - 35s 2s/step - loss: 1.0986 - accuracy: 0.5296 - val_loss: 1.6452 - val_accuracy: 0.4300\n",
            "Epoch 48/50\n",
            "21/21 [==============================] - 35s 2s/step - loss: 1.0361 - accuracy: 0.5537 - val_loss: 1.7186 - val_accuracy: 0.3300\n",
            "Epoch 49/50\n",
            "21/21 [==============================] - 35s 2s/step - loss: 1.1515 - accuracy: 0.4899 - val_loss: 1.3984 - val_accuracy: 0.4200\n",
            "Epoch 50/50\n",
            "21/21 [==============================] - 35s 2s/step - loss: 1.0729 - accuracy: 0.5350 - val_loss: 1.4977 - val_accuracy: 0.4300\n"
          ],
          "name": "stdout"
        },
        {
          "output_type": "error",
          "ename": "NameError",
          "evalue": "ignored",
          "traceback": [
            "\u001b[0;31m---------------------------------------------------------------------------\u001b[0m",
            "\u001b[0;31mNameError\u001b[0m                                 Traceback (most recent call last)",
            "\u001b[0;32m<ipython-input-18-ff1964fd4916>\u001b[0m in \u001b[0;36m<module>\u001b[0;34m()\u001b[0m\n\u001b[1;32m     40\u001b[0m \u001b[0;34m\u001b[0m\u001b[0m\n\u001b[1;32m     41\u001b[0m \u001b[0mimg_pred\u001b[0m \u001b[0;34m=\u001b[0m \u001b[0mimage\u001b[0m\u001b[0;34m.\u001b[0m\u001b[0mload_img\u001b[0m\u001b[0;34m(\u001b[0m\u001b[0;34m'/content/drive/MyDrive/shoulder classification/data_categorical/pred data/tornier_pred/Tornier.53.jpg'\u001b[0m \u001b[0;34m,\u001b[0m \u001b[0mtarget_size\u001b[0m\u001b[0;34m=\u001b[0m\u001b[0;34m(\u001b[0m\u001b[0;36m224\u001b[0m\u001b[0;34m,\u001b[0m\u001b[0;36m224\u001b[0m\u001b[0;34m)\u001b[0m\u001b[0;34m)\u001b[0m\u001b[0;34m\u001b[0m\u001b[0;34m\u001b[0m\u001b[0m\n\u001b[0;32m---> 42\u001b[0;31m \u001b[0mimg_pred\u001b[0m \u001b[0;34m=\u001b[0m \u001b[0mimg_to_array\u001b[0m\u001b[0;34m(\u001b[0m\u001b[0mimg_pred\u001b[0m\u001b[0;34m)\u001b[0m\u001b[0;34m\u001b[0m\u001b[0;34m\u001b[0m\u001b[0m\n\u001b[0m\u001b[1;32m     43\u001b[0m \u001b[0mimg_pred\u001b[0m \u001b[0;34m=\u001b[0m \u001b[0mnp\u001b[0m\u001b[0;34m.\u001b[0m\u001b[0mexpand_dims\u001b[0m\u001b[0;34m(\u001b[0m\u001b[0mimg_pred\u001b[0m \u001b[0;34m,\u001b[0m \u001b[0maxis\u001b[0m \u001b[0;34m=\u001b[0m \u001b[0;36m0\u001b[0m \u001b[0;34m)\u001b[0m\u001b[0;34m\u001b[0m\u001b[0;34m\u001b[0m\u001b[0m\n\u001b[1;32m     44\u001b[0m \u001b[0;34m\u001b[0m\u001b[0m\n",
            "\u001b[0;31mNameError\u001b[0m: name 'img_to_array' is not defined"
          ]
        }
      ]
    },
    {
      "cell_type": "code",
      "metadata": {
        "id": "z3Bg8VpkSwqd"
      },
      "source": [
        "img_pred = image.load_img('/content/drive/MyDrive/shoulder classification/data_categorical/pred data/tornier_pred/Tornier.53.jpg' , target_size=(224,224))\r\n",
        "img_pred = image.img_to_array(img_pred)\r\n",
        "img_pred = np.expand_dims(img_pred , axis = 0 )"
      ],
      "execution_count": 21,
      "outputs": []
    }
  ]
}